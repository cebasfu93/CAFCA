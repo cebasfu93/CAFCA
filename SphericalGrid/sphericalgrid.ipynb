{
 "cells": [
  {
   "cell_type": "code",
   "execution_count": 2,
   "metadata": {
    "collapsed": true
   },
   "outputs": [],
   "source": [
    "import numpy as np"
   ]
  },
  {
   "cell_type": "code",
   "execution_count": 3,
   "metadata": {
    "collapsed": false
   },
   "outputs": [
    {
     "name": "stdout",
     "output_type": "stream",
     "text": [
      "50\n"
     ]
    }
   ],
   "source": [
    "N_r=40\n",
    "N_side=101\n",
    "dx=0.1\n",
    "N_nuc=N_side//2\n",
    "grid=np.zeros((N_side, N_side, N_side))\n",
    "grid[N_nuc, N_nuc, N_nuc]=1.0\n",
    "print N_nuc"
   ]
  },
  {
   "cell_type": "code",
   "execution_count": 3,
   "metadata": {
    "collapsed": false
   },
   "outputs": [
    {
     "name": "stdout",
     "output_type": "stream",
     "text": [
      "[  1.   2.   3.   4.   5.   6.   7.   8.   9.  10.  11.  12.  13.  14.  15.\n",
      "  16.  17.  18.  19.  20.  21.  22.  23.  24.  25.  26.  27.  28.  29.  30.\n",
      "  31.  32.  33.  34.  35.  36.  37.  38.  39.  40.]\n"
     ]
    }
   ],
   "source": [
    "R=np.linspace(1,N_r, N_r)\n",
    "print R"
   ]
  },
  {
   "cell_type": "code",
   "execution_count": 4,
   "metadata": {
    "collapsed": false
   },
   "outputs": [],
   "source": [
    "file_cube=open(\"N_elec.outpy\", \"w\")\n",
    "cubes=np.zeros((N_r, 2))\n",
    "for l in range(N_r):\n",
    "    N_cubes=0\n",
    "    front_inf=int(N_nuc-R[l])-1\n",
    "    front_sup=int(N_nuc+R[l])+1\n",
    "    for i in range(front_inf, front_sup):\n",
    "        for j in range(front_inf, front_sup):\n",
    "            for k in range(front_inf, front_sup):\n",
    "                test_rad=np.array([(N_nuc-i), (N_nuc-j), N_nuc-k])\n",
    "                if(np.linalg.norm(test_rad)<=R[l]):\n",
    "                    N_cubes+=1\n",
    "    cubes[l,0]=int(R[l])\n",
    "    cubes[l,1]=N_cubes-1\n",
    "    \n",
    "cubes=cubes.astype(int)\n",
    "cubes=cubes.astype(str)\n",
    "\n",
    "col_width = max(len(word) for row in cubes for word in row) + 2\n",
    "for row in cubes:\n",
    "    file_cube.write(\"\".join(word.ljust(col_width) for word in row) + \"\\n\")\n",
    "\n",
    "file_cube.close()"
   ]
  },
  {
   "cell_type": "code",
   "execution_count": null,
   "metadata": {
    "collapsed": true
   },
   "outputs": [],
   "source": []
  },
  {
   "cell_type": "code",
   "execution_count": null,
   "metadata": {
    "collapsed": true
   },
   "outputs": [],
   "source": []
  }
 ],
 "metadata": {
  "kernelspec": {
   "display_name": "Python 2",
   "language": "python",
   "name": "python2"
  },
  "language_info": {
   "codemirror_mode": {
    "name": "ipython",
    "version": 2
   },
   "file_extension": ".py",
   "mimetype": "text/x-python",
   "name": "python",
   "nbconvert_exporter": "python",
   "pygments_lexer": "ipython2",
   "version": "2.7.13"
  }
 },
 "nbformat": 4,
 "nbformat_minor": 2
}
