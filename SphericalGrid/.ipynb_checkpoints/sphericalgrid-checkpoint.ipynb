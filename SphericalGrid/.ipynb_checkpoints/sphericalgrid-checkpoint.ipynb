{
 "cells": [
  {
   "cell_type": "code",
   "execution_count": 1,
   "metadata": {
    "collapsed": true
   },
   "outputs": [],
   "source": [
    "import numpy as np"
   ]
  },
  {
   "cell_type": "code",
   "execution_count": 90,
   "metadata": {
    "collapsed": false
   },
   "outputs": [],
   "source": [
    "N_r=40\n",
    "N_side=101\n",
    "dx=0.1\n",
    "N_nuc=N_side//2\n",
    "grid=np.zeros((N_side, N_side, N_side))\n",
    "grid[N_nuc, N_nuc, N_nuc]=1.0"
   ]
  },
  {
   "cell_type": "code",
   "execution_count": 91,
   "metadata": {
    "collapsed": false
   },
   "outputs": [
    {
     "name": "stdout",
     "output_type": "stream",
     "text": [
      "[  0.   1.   2.   3.   4.   5.   6.   7.   8.   9.  10.  11.  12.  13.  14.\n",
      "  15.  16.  17.  18.  19.  20.  21.  22.  23.  24.  25.  26.  27.  28.  29.\n",
      "  30.  31.  32.  33.  34.  35.  36.  37.  38.  39.  40.]\n"
     ]
    }
   ],
   "source": [
    "R=np.linspace(1,N_r, N_r)\n",
    "print R"
   ]
  },
  {
   "cell_type": "code",
   "execution_count": 99,
   "metadata": {
    "collapsed": false
   },
   "outputs": [
    {
     "name": "stdout",
     "output_type": "stream",
     "text": [
      "50 50\n",
      "0.0\n",
      "49 51\n",
      "1.0\n",
      "48 52\n",
      "2.0\n",
      "48 50 50\n",
      "49 49 49\n",
      "49 49 50\n",
      "49 49 51\n",
      "49 50 49\n",
      "49 50 50\n",
      "49 50 51\n",
      "49 51 49\n",
      "49 51 50\n",
      "49 51 51\n",
      "50 48 50\n",
      "50 49 49\n",
      "50 49 50\n",
      "50 49 51\n",
      "50 50 48\n",
      "50 50 49\n",
      "50 50 50\n",
      "50 50 51\n",
      "50 51 49\n",
      "50 51 50\n",
      "50 51 51\n",
      "51 49 49\n",
      "51 49 50\n",
      "51 49 51\n",
      "51 50 49\n",
      "51 50 50\n",
      "51 50 51\n",
      "51 51 49\n",
      "51 51 50\n",
      "51 51 51\n",
      "47 53\n",
      "3.0\n",
      "46 54\n",
      "4.0\n",
      "45 55\n",
      "5.0\n",
      "44 56\n",
      "6.0\n",
      "43 57\n",
      "7.0\n",
      "42 58\n",
      "8.0\n",
      "41 59\n",
      "9.0\n",
      "40 60\n",
      "10.0\n",
      "39 61\n",
      "11.0\n",
      "38 62\n",
      "12.0\n",
      "37 63\n",
      "13.0\n",
      "36 64\n",
      "14.0\n",
      "35 65\n",
      "15.0\n",
      "34 66\n",
      "16.0\n",
      "33 67\n",
      "17.0\n",
      "32 68\n",
      "18.0\n",
      "31 69\n",
      "19.0\n",
      "30 70\n",
      "20.0\n",
      "29 71\n",
      "21.0\n",
      "28 72\n",
      "22.0\n",
      "27 73\n",
      "23.0\n",
      "26 74\n",
      "24.0\n",
      "25 75\n",
      "25.0\n",
      "24 76\n",
      "26.0\n",
      "23 77\n",
      "27.0\n",
      "22 78\n",
      "28.0\n",
      "21 79\n",
      "29.0\n",
      "20 80\n",
      "30.0\n",
      "19 81\n",
      "31.0\n",
      "18 82\n",
      "32.0\n",
      "17 83\n",
      "33.0\n",
      "16 84\n",
      "34.0\n",
      "15 85\n",
      "35.0\n",
      "14 86\n",
      "36.0\n",
      "13 87\n",
      "37.0\n",
      "12 88\n",
      "38.0\n",
      "11 89\n",
      "39.0\n",
      "10 90\n",
      "40.0\n"
     ]
    }
   ],
   "source": [
    "N_r=len(R)\n",
    "file_cube=open(\"N_elec.outpy\", \"w\")\n",
    "cubes=np.zeros((N_r, 2))\n",
    "for l in range(N_r):\n",
    "    N_cubes=0\n",
    "    front_inf=int(N_nuc-R[l])\n",
    "    front_sup=int(N_nuc+R[l])\n",
    "    for i in range(front_inf, front_sup):\n",
    "        for j in range(front_inf, front_sup):\n",
    "            for k in range(front_inf, front_sup):\n",
    "                test_rad=np.array([(N_nuc-i), (N_nuc-j), N_nuc-k])\n",
    "                if(np.linalg.norm(test_rad)<=R[l]):\n",
    "                    N_cubes+=1\n",
    "    cubes[l,0]=int(R[l])\n",
    "    cubes[l,1]=N_cubes-1\n",
    "    \n",
    "cubes=cubes.astype(int)\n",
    "cubes=cubes.astype(str)\n",
    "\n",
    "col_width = max(len(word) for row in cubes for word in row) + 2\n",
    "for row in cubes:\n",
    "    file_cube.write(\"\".join(word.ljust(col_width) for word in row) + \"\\n\")\n",
    "\n",
    "file_cube.close()"
   ]
  },
  {
   "cell_type": "code",
   "execution_count": null,
   "metadata": {
    "collapsed": true
   },
   "outputs": [],
   "source": []
  },
  {
   "cell_type": "code",
   "execution_count": null,
   "metadata": {
    "collapsed": true
   },
   "outputs": [],
   "source": []
  }
 ],
 "metadata": {
  "kernelspec": {
   "display_name": "Python 2",
   "language": "python",
   "name": "python2"
  },
  "language_info": {
   "codemirror_mode": {
    "name": "ipython",
    "version": 2
   },
   "file_extension": ".py",
   "mimetype": "text/x-python",
   "name": "python",
   "nbconvert_exporter": "python",
   "pygments_lexer": "ipython2",
   "version": "2.7.13"
  }
 },
 "nbformat": 4,
 "nbformat_minor": 2
}
